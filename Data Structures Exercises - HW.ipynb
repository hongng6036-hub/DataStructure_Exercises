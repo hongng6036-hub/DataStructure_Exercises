{
 "cells": [
  {
   "cell_type": "markdown",
   "id": "fdae254f",
   "metadata": {},
   "source": [
    "# Data Structures Exercises"
   ]
  },
  {
   "cell_type": "markdown",
   "id": "24c0ea99",
   "metadata": {},
   "source": [
    "# Exercise 1\n",
    "In mathematics, the quadratic equation ax2+bx+c=0 can be solved with the formula x=−b±b2−4ac√2a.\n",
    "\n",
    "Write a function solve_quadratic, that returns both solutions of a generic quadratic as a pair (2-tuple) when the coefficients are given as parameters. It should work like this:\n",
    "\n",
    "print(solve_quadratic(1,-3,2))\n",
    "(2.0,1.0)\n",
    "print(solve_quadratic(1,2,1))\n",
    "(-1.0,-1.0)\n",
    "You may want to use the math.sqrt function from the math module in your solution. Test that your function works in the main function!"
   ]
  },
  {
   "cell_type": "code",
   "execution_count": 39,
   "id": "67f96bca",
   "metadata": {},
   "outputs": [
    {
     "name": "stdout",
     "output_type": "stream",
     "text": [
      "(2.0, 1.0)\n",
      "(-1.0, -1.0)\n"
     ]
    }
   ],
   "source": [
    "#Import math module to get access to the math methods\n",
    "import math\n",
    "\n",
    "#Create a function called solve_quadratic with parameters a, b, and c\n",
    "def solve_quadratic(a, b, c):   #This will evaluate the expression ax^2+bx+c=0\n",
    "    d = (b**2) - 4*a*c     #This is to simplify the square root equation on the numerator\n",
    "    \n",
    "    positiveSolution = (-b + math.sqrt(d)) / (2*a) #This returns the high end value of the quadratic formula\n",
    "    negativeSolution = (-b - math.sqrt(d)) / (2*a) #This returns the lower end value of the quadratic formula\n",
    "    \n",
    "    return (positiveSolution, negativeSolution)    #This returns the output in a tuple data type. \n",
    "    #This returns the output for the function and assigns the values to positiveSolution and negativeSolution.\n",
    "\n",
    "#This returns the solution for the quadratic function\n",
    "print(solve_quadratic(1, -3, 2))\n",
    "print(solve_quadratic(1, 2, 1))"
   ]
  },
  {
   "cell_type": "markdown",
   "id": "8a26492e",
   "metadata": {},
   "source": [
    "# Exercise 2\n",
    "Get a space-separated list of integers from the user, create a tuple of those integers. Then compute and print the result of hash(tuple)."
   ]
  },
  {
   "cell_type": "code",
   "execution_count": 40,
   "id": "39d1148a",
   "metadata": {},
   "outputs": [
    {
     "name": "stdout",
     "output_type": "stream",
     "text": [
      "Enter list of numbers separated by space: 1 2 3 4 5\n",
      "['1', '2', '3', '4', '5']\n",
      "<class 'list'>\n"
     ]
    }
   ],
   "source": [
    "#Get a space-separated list of integers from the user\n",
    "listFromUser = input(\"Enter list of numbers separated by space: \").split(' ')\n",
    "print(listFromUser)\n",
    "print(type(listFromUser))"
   ]
  },
  {
   "cell_type": "code",
   "execution_count": 41,
   "id": "529ee56c",
   "metadata": {},
   "outputs": [
    {
     "name": "stdout",
     "output_type": "stream",
     "text": [
      "Enter list of numbers separated by space: 1 2 3 4 5\n",
      "<map object at 0x7f84b4977520>\n",
      "<class 'map'>\n"
     ]
    }
   ],
   "source": [
    "# Convert string to integers\n",
    "IntegersFromUser = map(int, input(\"Enter list of numbers separated by space: \").split(' '))\n",
    "print(IntegersFromUser)\n",
    "print(type(IntegersFromUser))"
   ]
  },
  {
   "cell_type": "code",
   "execution_count": 42,
   "id": "e65c9f35",
   "metadata": {},
   "outputs": [
    {
     "name": "stdout",
     "output_type": "stream",
     "text": [
      "Enter list of numbers separated by space: 1 2 3 4 5\n",
      "(1, 2, 3, 4, 5)\n",
      "<class 'tuple'>\n"
     ]
    }
   ],
   "source": [
    "# Convert list to truple\n",
    "tupleFromUser = tuple(map(int, input(\"Enter list of numbers separated by space: \").split(' ')))\n",
    "print(tupleFromUser)\n",
    "print(type(tupleFromUser))"
   ]
  },
  {
   "cell_type": "code",
   "execution_count": 15,
   "id": "42967a59",
   "metadata": {},
   "outputs": [
    {
     "name": "stdout",
     "output_type": "stream",
     "text": [
      "529344067295497451\n"
     ]
    }
   ],
   "source": [
    "#Compute and print result of hash(tuple)\n",
    "print(hash(tupleFromUser))"
   ]
  },
  {
   "cell_type": "markdown",
   "id": "a82dfd3e",
   "metadata": {},
   "source": [
    "# Exercise 3\n",
    "Take the following two lists. Create a third list by picking a odd-index elements from the first list and even-index elements from the second.\n",
    "\n",
    "listOne = [3, 6, 9, 12, 15, 18, 21]\n",
    "listTwo = [4, 8, 12, 16, 20, 24, 28]"
   ]
  },
  {
   "cell_type": "code",
   "execution_count": 43,
   "id": "e2790172",
   "metadata": {},
   "outputs": [],
   "source": [
    "listOne = [3, 6, 9, 12, 15, 18, 21]"
   ]
  },
  {
   "cell_type": "code",
   "execution_count": 44,
   "id": "87877f32",
   "metadata": {},
   "outputs": [],
   "source": [
    "listTwo = [4, 8, 12, 16, 20, 24, 28]"
   ]
  },
  {
   "cell_type": "code",
   "execution_count": 45,
   "id": "1cb1d1a6",
   "metadata": {},
   "outputs": [
    {
     "name": "stdout",
     "output_type": "stream",
     "text": [
      "[6, 12, 18, 4, 12, 20, 28]\n"
     ]
    }
   ],
   "source": [
    "# This creates a third list by odd INDEXED elements from the first list and even INDEXED elements from the second\n",
    "#List one starts at position 1 and increments every other value\n",
    "#List two starts at position 0 and increments every other value\n",
    "list3 = listOne[1::2] + listTwo[0::2] \n",
    "print(list3)"
   ]
  },
  {
   "cell_type": "code",
   "execution_count": 46,
   "id": "8f21598b",
   "metadata": {},
   "outputs": [
    {
     "name": "stdout",
     "output_type": "stream",
     "text": [
      "[3, 9, 15, 21]\n"
     ]
    }
   ],
   "source": [
    "#This gets the list for ODD ELEMENTS from the first list and EVEN ELEMENTS from the second\n",
    "#Created an empty list\n",
    "listThree = []\n",
    "\n",
    "#Condition where if x in listOne is not divisible by 2 then the number is odd and added to the listThree.\n",
    "for x in listOne:\n",
    "        if x % 2 == 1:\n",
    "            listThree.append(x)\n",
    "print(listThree)"
   ]
  },
  {
   "cell_type": "code",
   "execution_count": 47,
   "id": "2eb4b610",
   "metadata": {},
   "outputs": [
    {
     "name": "stdout",
     "output_type": "stream",
     "text": [
      "[3, 9, 15, 21, 4, 8, 12, 16, 20, 24, 28]\n",
      "[3, 4, 8, 9, 12, 15, 16, 20, 21, 24, 28]\n"
     ]
    }
   ],
   "source": [
    "#Condition where if y in listTwo is divisible by 2 then the number is even and added to listThree.\n",
    "for y in listTwo:\n",
    "    if y % 2 == 0:\n",
    "        listThree.append(y)\n",
    "\n",
    "#This prints the listThree with odd values from listOne and even values from listTwo\n",
    "print(listThree)\n",
    "\n",
    "#This prints the listThree but with the values sorted. :)\n",
    "listThree.sort()\n",
    "print(listThree)"
   ]
  },
  {
   "cell_type": "markdown",
   "id": "9512931c",
   "metadata": {},
   "source": [
    "# Exercise 4\n",
    "Take the following list. Slice it into three equal chunks and reverse each list.\n",
    "\n",
    "sampleList = [11, 45, 8, 23, 14, 12, 78, 45, 89]"
   ]
  },
  {
   "cell_type": "code",
   "execution_count": 48,
   "id": "f1b44898",
   "metadata": {},
   "outputs": [
    {
     "data": {
      "text/plain": [
       "9"
      ]
     },
     "execution_count": 48,
     "metadata": {},
     "output_type": "execute_result"
    }
   ],
   "source": [
    "sampleList = [11, 45, 8, 23, 14, 12, 78, 45, 89]\n",
    "len(sampleList)"
   ]
  },
  {
   "cell_type": "code",
   "execution_count": 49,
   "id": "385a44c4",
   "metadata": {
    "scrolled": true
   },
   "outputs": [
    {
     "name": "stdout",
     "output_type": "stream",
     "text": [
      "[89, 12, 8]\n",
      "[45, 14, 45]\n",
      "[78, 23, 11]\n"
     ]
    }
   ],
   "source": [
    "#We created 3 lists. All our start points start backwards. -1 is 89, -2 is 45, -3 is 78\n",
    "# The -3 is reversing our list\n",
    "Slice1 = sampleList[-1::-3]\n",
    "Slice2 = sampleList[-2::-3]\n",
    "Slice3 = sampleList[-3::-3]\n",
    "\n",
    "print(Slice1)\n",
    "print(Slice2)\n",
    "print(Slice3)"
   ]
  },
  {
   "cell_type": "markdown",
   "id": "98bb2930",
   "metadata": {},
   "source": [
    "# Exercise 5 \n",
    "Iterate through a given list and check if a given element already exists in a dictionary as a key’s value. If not, delete it from the list.\n",
    "\n",
    "rollNumber = [47, 64, 69, 37, 76, 83, 95, 97]\n",
    "sampleDict ={'Zach':47, 'Emma':69, 'Kelly':76, 'Jason':97}"
   ]
  },
  {
   "cell_type": "code",
   "execution_count": 50,
   "id": "3a31a0b8",
   "metadata": {},
   "outputs": [
    {
     "name": "stdout",
     "output_type": "stream",
     "text": [
      "[47, 69, 76, 95, 97]\n"
     ]
    }
   ],
   "source": [
    "rollNumber = [47, 64, 69, 37, 76, 83, 95, 97] \n",
    "sampleDict ={'Zach':47, 'Emma':69, 'Kelly':76, 'Jason':97}\n",
    "\n",
    "\n",
    "#iterate through the elements in rollNumber\n",
    "#Create a for loop\n",
    "for x in rollNumber:     \n",
    "    #check if the element is already there in sampleDict as the key, x is the value\n",
    "    if x not in sampleDict.values():\n",
    "        #if the condition is true/matches, then we remove it from sampleDict\n",
    "        rollNumber.remove(x)    \n",
    "    #if not we continue and delete it from rollNumber.\n",
    "    else:\n",
    "        continue\n",
    "\n",
    "print(rollNumber)"
   ]
  },
  {
   "cell_type": "markdown",
   "id": "ae62c364",
   "metadata": {},
   "source": [
    "# Extra Points\n",
    "- - -"
   ]
  },
  {
   "cell_type": "raw",
   "id": "a37d8c8a",
   "metadata": {},
   "source": [
    "1. ***Optional Exercise (Extra Points)***.  Write a Python program to convert a tuple to a string."
   ]
  },
  {
   "cell_type": "code",
   "execution_count": 51,
   "id": "5669bd04",
   "metadata": {},
   "outputs": [
    {
     "name": "stdout",
     "output_type": "stream",
     "text": [
      "('Coffee', 'Tea', 'Juice', 'Water', 'Soda')\n",
      "<class 'tuple'>\n",
      "Coffee Tea Juice Water Soda\n",
      "<class 'str'>\n"
     ]
    }
   ],
   "source": [
    "t = ('Coffee', 'Tea', 'Juice', 'Water', 'Soda')\n",
    "print(t)\n",
    "print(type(t))\n",
    "\n",
    "string = ' '.join(t)\n",
    "\n",
    "print(string)\n",
    "print(type(string))"
   ]
  },
  {
   "cell_type": "raw",
   "id": "1eb3c9a9",
   "metadata": {},
   "source": [
    "2. ***Optional Exercise (Extra Points)***.  Write a Python program to check whether an element exists within a tuple."
   ]
  },
  {
   "cell_type": "code",
   "execution_count": 52,
   "id": "2a487b25",
   "metadata": {},
   "outputs": [
    {
     "name": "stdout",
     "output_type": "stream",
     "text": [
      "hello is here\n"
     ]
    }
   ],
   "source": [
    "t = ('hi', 'hello', 'mom', 'airplane', 'cloud', [1, 2, 3])\n",
    "\n",
    "if 'hello' in t:\n",
    "    print('hello is here')"
   ]
  },
  {
   "cell_type": "raw",
   "id": "d0daea14",
   "metadata": {},
   "source": [
    "3. ***Optional Exercise (Extra Points)***.  Write a Python program to print a tuple with string formatting."
   ]
  },
  {
   "cell_type": "code",
   "execution_count": 53,
   "id": "b1b10722",
   "metadata": {},
   "outputs": [
    {
     "name": "stdout",
     "output_type": "stream",
     "text": [
      "The beverages we carry are: ('Coffee', 'Tea', 'Juice', 'Water', 'Soda')\n"
     ]
    }
   ],
   "source": [
    "t = ('Coffee', 'Tea', 'Juice', 'Water', 'Soda')\n",
    "print(\"The beverages we carry are: %s\"% (t,))"
   ]
  }
 ],
 "metadata": {
  "kernelspec": {
   "display_name": "Python 3",
   "language": "python",
   "name": "python3"
  }
 },
 "nbformat": 4,
 "nbformat_minor": 5
}
