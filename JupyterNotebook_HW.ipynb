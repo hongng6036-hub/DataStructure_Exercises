{
 "cells": [
  {
   "cell_type": "markdown",
   "id": "3d789acc",
   "metadata": {},
   "source": [
    "<h1 style=\"font-size=3rem;color=green;\">This is Hong's practice assignment</h1>"
   ]
  },
  {
   "cell_type": "markdown",
   "id": "116b7695",
   "metadata": {},
   "source": [
    "# 1. Accept the user's first and last name and print them in reverse order with a space between them\n"
   ]
  },
  {
   "cell_type": "code",
   "execution_count": 4,
   "id": "be1fd363",
   "metadata": {},
   "outputs": [
    {
     "name": "stdout",
     "output_type": "stream",
     "text": [
      "Enter your first name: Hong\n"
     ]
    }
   ],
   "source": [
    "#Assign the user's input to the variable firstName\n",
    "\n",
    "firstName = input(\"Enter your first name: \")"
   ]
  },
  {
   "cell_type": "code",
   "execution_count": 5,
   "id": "cb9b7a75",
   "metadata": {},
   "outputs": [
    {
     "name": "stdout",
     "output_type": "stream",
     "text": [
      "Enter your last name: Nguyen\n"
     ]
    }
   ],
   "source": [
    "#Assign the user's input to the variable lastName\n",
    "\n",
    "lastName = input(\"Enter your last name: \")"
   ]
  },
  {
   "cell_type": "markdown",
   "id": "4262a020",
   "metadata": {},
   "source": [
    "<h3> Print out the First name and Last name in reverse order </h3>"
   ]
  },
  {
   "cell_type": "code",
   "execution_count": 6,
   "id": "9af64741",
   "metadata": {},
   "outputs": [
    {
     "name": "stdout",
     "output_type": "stream",
     "text": [
      "Nguyen Hong\n"
     ]
    }
   ],
   "source": [
    "print(lastName + \" \" + firstName)"
   ]
  },
  {
   "cell_type": "markdown",
   "id": "4fba6d3c",
   "metadata": {},
   "source": [
    "# 2. Accept an integer (n) input from the user and compute the value of n+nn+nnn. For example if n=4 then n + nn + nnn = 4 + 44 + 444 = 492\n",
    "\n",
    "<h3>Accept an integer input from the user</h3>"
   ]
  },
  {
   "cell_type": "code",
   "execution_count": 4,
   "id": "321922ed",
   "metadata": {},
   "outputs": [
    {
     "name": "stdout",
     "output_type": "stream",
     "text": [
      "Enter a number: 4\n"
     ]
    }
   ],
   "source": [
    "n = int(input(\"Enter a number: \"))"
   ]
  },
  {
   "cell_type": "markdown",
   "id": "68fac70f",
   "metadata": {},
   "source": [
    "<h3> Compute math operation</h3>"
   ]
  },
  {
   "cell_type": "code",
   "execution_count": 1,
   "id": "731a1034",
   "metadata": {},
   "outputs": [
    {
     "ename": "NameError",
     "evalue": "name 'n' is not defined",
     "output_type": "error",
     "traceback": [
      "\u001b[0;31m---------------------------------------------------------------------------\u001b[0m",
      "\u001b[0;31mNameError\u001b[0m                                 Traceback (most recent call last)",
      "\u001b[0;32m<ipython-input-1-80a594fe0011>\u001b[0m in \u001b[0;36m<module>\u001b[0;34m\u001b[0m\n\u001b[1;32m      1\u001b[0m \u001b[0;31m# Turn n to a string. Add the two \"n\" strings together to be \"nn\" and assign it to variable n2\u001b[0m\u001b[0;34m\u001b[0m\u001b[0;34m\u001b[0m\u001b[0;34m\u001b[0m\u001b[0m\n\u001b[0;32m----> 2\u001b[0;31m \u001b[0mn2\u001b[0m \u001b[0;34m=\u001b[0m \u001b[0mstr\u001b[0m\u001b[0;34m(\u001b[0m\u001b[0mn\u001b[0m\u001b[0;34m)\u001b[0m \u001b[0;34m+\u001b[0m \u001b[0mstr\u001b[0m\u001b[0;34m(\u001b[0m\u001b[0mn\u001b[0m\u001b[0;34m)\u001b[0m\u001b[0;34m\u001b[0m\u001b[0;34m\u001b[0m\u001b[0m\n\u001b[0m",
      "\u001b[0;31mNameError\u001b[0m: name 'n' is not defined"
     ]
    }
   ],
   "source": [
    "# Turn n to a string. Add the two \"n\" strings together to be \"nn\" and assign it to variable n2\n",
    "n2 = str(n) + str(n)"
   ]
  },
  {
   "cell_type": "code",
   "execution_count": 2,
   "id": "7fc48db3",
   "metadata": {},
   "outputs": [
    {
     "ename": "NameError",
     "evalue": "name 'n' is not defined",
     "output_type": "error",
     "traceback": [
      "\u001b[0;31m---------------------------------------------------------------------------\u001b[0m",
      "\u001b[0;31mNameError\u001b[0m                                 Traceback (most recent call last)",
      "\u001b[0;32m<ipython-input-2-d6882bf13a8e>\u001b[0m in \u001b[0;36m<module>\u001b[0;34m\u001b[0m\n\u001b[1;32m      1\u001b[0m \u001b[0;31m# Turn n to a string. Add the three \"n\" strings together to be \"nnn\" and assign it to variable n3\u001b[0m\u001b[0;34m\u001b[0m\u001b[0;34m\u001b[0m\u001b[0;34m\u001b[0m\u001b[0m\n\u001b[0;32m----> 2\u001b[0;31m \u001b[0mn3\u001b[0m \u001b[0;34m=\u001b[0m \u001b[0mstr\u001b[0m\u001b[0;34m(\u001b[0m\u001b[0mn\u001b[0m\u001b[0;34m)\u001b[0m \u001b[0;34m+\u001b[0m \u001b[0mstr\u001b[0m\u001b[0;34m(\u001b[0m\u001b[0mn\u001b[0m\u001b[0;34m)\u001b[0m \u001b[0;34m+\u001b[0m \u001b[0mstr\u001b[0m\u001b[0;34m(\u001b[0m\u001b[0mn\u001b[0m\u001b[0;34m)\u001b[0m\u001b[0;34m\u001b[0m\u001b[0;34m\u001b[0m\u001b[0m\n\u001b[0m",
      "\u001b[0;31mNameError\u001b[0m: name 'n' is not defined"
     ]
    }
   ],
   "source": [
    "# Turn n to a string. Add the three \"n\" strings together to be \"nnn\" and assign it to variable n3\n",
    "n3 = str(n) + str(n) + str(n)"
   ]
  },
  {
   "cell_type": "code",
   "execution_count": 7,
   "id": "38aae5ca",
   "metadata": {},
   "outputs": [],
   "source": [
    "# Turn n2 and n3 back to integers and add it to the integer n. Assign the value to the variable result\n",
    "result = n + int(n2) + int(n3)"
   ]
  },
  {
   "cell_type": "code",
   "execution_count": 8,
   "id": "8e02810b",
   "metadata": {},
   "outputs": [
    {
     "name": "stdout",
     "output_type": "stream",
     "text": [
      "492\n"
     ]
    }
   ],
   "source": [
    "# Print the value of the variable result\n",
    "print(result)"
   ]
  },
  {
   "cell_type": "markdown",
   "id": "93549613",
   "metadata": {},
   "source": [
    "# 3. Ask the user \"What country are you from?\" then print the following statement: \"I have heard that [input] is a beautiful country!\""
   ]
  },
  {
   "cell_type": "code",
   "execution_count": 10,
   "id": "7c984bb0",
   "metadata": {},
   "outputs": [
    {
     "name": "stdout",
     "output_type": "stream",
     "text": [
      "What country are you from? France\n"
     ]
    }
   ],
   "source": [
    "# Ask user a question and assign the anwer/input into the variable userCountry\n",
    "userCountry = input(\"What country are you from? \")"
   ]
  },
  {
   "cell_type": "code",
   "execution_count": 11,
   "id": "f50b63fc",
   "metadata": {},
   "outputs": [
    {
     "name": "stdout",
     "output_type": "stream",
     "text": [
      "I have heard that France is a beautiful contry!\n"
     ]
    }
   ],
   "source": [
    "# Print the statement but insert the variable in between the string. \n",
    "print(\"I have heard that \" + userCountry + \" is a beautiful contry!\")"
   ]
  },
  {
   "cell_type": "markdown",
   "id": "a3ad0981",
   "metadata": {},
   "source": [
    "# 4. What is the output of the following Python code\n",
    "\n",
    "x = 10\n",
    "y = 50\n",
    "if (x ** 2 > 100 and y < 100):\n",
    "    print(x, y)"
   ]
  },
  {
   "cell_type": "code",
   "execution_count": 12,
   "id": "f8e0a254",
   "metadata": {},
   "outputs": [],
   "source": [
    "# Assign the value 10 to the variable x\n",
    "x = 10"
   ]
  },
  {
   "cell_type": "code",
   "execution_count": 13,
   "id": "b9fc932f",
   "metadata": {},
   "outputs": [],
   "source": [
    "# Assign the value 50 to the varaible y\n",
    "y = 50"
   ]
  },
  {
   "cell_type": "markdown",
   "id": "cd5ba9a7",
   "metadata": {},
   "source": [
    "### Create an \"if\" loop that prints out the output if the conditions are true."
   ]
  },
  {
   "cell_type": "code",
   "execution_count": 17,
   "id": "0f913042",
   "metadata": {},
   "outputs": [],
   "source": [
    "# x**2 is x with the exponent 2. So if 10^2 = 100 less than 100.\n",
    "\n",
    "if (x ** 2 > 100 and y < 100): \n",
    "    # identation indicates code block\n",
    "    print(x, y)"
   ]
  },
  {
   "cell_type": "code",
   "execution_count": 18,
   "id": "249a0cb1",
   "metadata": {},
   "outputs": [],
   "source": [
    "# Output is nothing becasuse x**2 returns 100 which is less than 100. \n",
    "# Thus, this loop returns false and doesn't print out anything.\n",
    "# However, if the loop returned true then the output should be 10 50."
   ]
  },
  {
   "cell_type": "markdown",
   "id": "cbe9606f",
   "metadata": {},
   "source": [
    "# 5. What is the output of the following addition (+) operator, and why does this code chunk execute this way?\n",
    "\n",
    "a = [10, 20]\n",
    "b = a\n",
    "b += [30, 40]\n",
    "print(a)\n",
    "print(b)"
   ]
  },
  {
   "cell_type": "markdown",
   "id": "e58abb58",
   "metadata": {},
   "source": [
    "### Create a list of integers!"
   ]
  },
  {
   "cell_type": "code",
   "execution_count": 60,
   "id": "0678f027",
   "metadata": {},
   "outputs": [],
   "source": [
    "# Make list of two integers\n",
    "a = [10, 20]"
   ]
  },
  {
   "cell_type": "code",
   "execution_count": 57,
   "id": "738aaf44",
   "metadata": {},
   "outputs": [],
   "source": [
    "# Declare a variable b and have it equals to our list 'a'\n",
    "b = a"
   ]
  },
  {
   "cell_type": "code",
   "execution_count": 58,
   "id": "e467889f",
   "metadata": {},
   "outputs": [],
   "source": [
    "# Add two more integers to the list 'b'\n",
    "b += [30, 40]"
   ]
  },
  {
   "cell_type": "code",
   "execution_count": 61,
   "id": "40e3a5c2",
   "metadata": {},
   "outputs": [
    {
     "name": "stdout",
     "output_type": "stream",
     "text": [
      "[10, 20]\n",
      "[10, 20, 30, 40]\n"
     ]
    }
   ],
   "source": [
    "#Print your list 'a' and 'b'\n",
    "print(a)\n",
    "print(b)"
   ]
  },
  {
   "cell_type": "markdown",
   "id": "f58340ad",
   "metadata": {},
   "source": [
    "# 6. What is the output of the following code and what arithmetic operators is being used here? \n",
    "\n",
    "### print(2%6)"
   ]
  },
  {
   "cell_type": "code",
   "execution_count": 32,
   "id": "d83672e0",
   "metadata": {},
   "outputs": [
    {
     "name": "stdout",
     "output_type": "stream",
     "text": [
      "2\n"
     ]
    }
   ],
   "source": [
    "# Print out the remainder after we divide 2 by 6.\n",
    "print(2%6)"
   ]
  },
  {
   "cell_type": "markdown",
   "id": "6441b6b2",
   "metadata": {},
   "source": [
    "# 7. What is the output of the following code and what arithmetic operators are used here? \n",
    "### print(2 * 3 ** 3 * 4)"
   ]
  },
  {
   "cell_type": "code",
   "execution_count": 35,
   "id": "7982e235",
   "metadata": {},
   "outputs": [
    {
     "name": "stdout",
     "output_type": "stream",
     "text": [
      "216\n"
     ]
    }
   ],
   "source": [
    "# Print the math expression 2* (3^2) * 4\n",
    "print(2 * 3 ** 3 * 4)"
   ]
  },
  {
   "cell_type": "markdown",
   "id": "508eec34",
   "metadata": {},
   "source": [
    "# 8. What is a text editor?"
   ]
  },
  {
   "cell_type": "markdown",
   "id": "5042466e",
   "metadata": {},
   "source": [
    "It's an application that your write your code in!\n",
    "It's pretty much your development environment where you write, edit, and delete your code."
   ]
  },
  {
   "cell_type": "markdown",
   "id": "73b7427b",
   "metadata": {},
   "source": [
    "# 9. What is python?"
   ]
  },
  {
   "cell_type": "markdown",
   "id": "b542854b",
   "metadata": {},
   "source": [
    "Python is a programming language!\n",
    "<br>\n",
    "Fun fact: Python is inrepreted rather than compiled, meaning it gets executed line by line."
   ]
  },
  {
   "cell_type": "markdown",
   "id": "cbac5229",
   "metadata": {},
   "source": [
    "# 10. What is jupyter notebook, what type of python environment is it, and what alternatives are there to jupyter notebook?"
   ]
  },
  {
   "cell_type": "markdown",
   "id": "039fdec5",
   "metadata": {},
   "source": [
    "Jupyter notebook is a web-based interactive development environment.\n",
    "<br>\n",
    "Jupyter notebook uses the conda environment.\n",
    "<br>\n",
    "Some alternatives to jupyter notebooks include Visual Studio Code, PyCharm (my favorite!), etc."
   ]
  }
 ],
 "metadata": {
  "kernelspec": {
   "display_name": "Python 3",
   "language": "python",
   "name": "python3"
  },
  "language_info": {
   "codemirror_mode": {
    "name": "ipython",
    "version": 3
   },
   "file_extension": ".py",
   "mimetype": "text/x-python",
   "name": "python",
   "nbconvert_exporter": "python",
   "pygments_lexer": "ipython3",
   "version": "3.8.8"
  }
 },
 "nbformat": 4,
 "nbformat_minor": 5
}
